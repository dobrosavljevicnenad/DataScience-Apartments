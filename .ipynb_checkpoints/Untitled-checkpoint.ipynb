{
 "cells": [
  {
   "cell_type": "code",
   "execution_count": 1,
   "id": "0447e3b8-2d73-45fa-ad38-c0169bc5def1",
   "metadata": {},
   "outputs": [],
   "source": [
    "import pandas as pd"
   ]
  },
  {
   "cell_type": "code",
   "execution_count": 2,
   "id": "9377379e-bbf8-48c8-aab0-afc14911d4c2",
   "metadata": {},
   "outputs": [],
   "source": [
    "dataset = pd.read_csv('apartmentsdata.csv')"
   ]
  },
  {
   "cell_type": "code",
   "execution_count": 3,
   "id": "d603b6c2-d035-44cd-9bd6-1f1af7c427d9",
   "metadata": {},
   "outputs": [
    {
     "data": {
      "text/html": [
       "<div>\n",
       "<style scoped>\n",
       "    .dataframe tbody tr th:only-of-type {\n",
       "        vertical-align: middle;\n",
       "    }\n",
       "\n",
       "    .dataframe tbody tr th {\n",
       "        vertical-align: top;\n",
       "    }\n",
       "\n",
       "    .dataframe thead th {\n",
       "        text-align: right;\n",
       "    }\n",
       "</style>\n",
       "<table border=\"1\" class=\"dataframe\">\n",
       "  <thead>\n",
       "    <tr style=\"text-align: right;\">\n",
       "      <th></th>\n",
       "      <th>area</th>\n",
       "      <th>city</th>\n",
       "      <th>floor</th>\n",
       "      <th>location</th>\n",
       "      <th>price</th>\n",
       "      <th>rooms</th>\n",
       "      <th>source</th>\n",
       "      <th>square_price</th>\n",
       "      <th>title</th>\n",
       "      <th>Unnamed: 9</th>\n",
       "      <th>Unnamed: 10</th>\n",
       "    </tr>\n",
       "  </thead>\n",
       "  <tbody>\n",
       "    <tr>\n",
       "      <th>0</th>\n",
       "      <td>76</td>\n",
       "      <td>Beograd</td>\n",
       "      <td>3</td>\n",
       "      <td>Opština Vračar , Hram svetog Save , Svetog Save</td>\n",
       "      <td>290000</td>\n",
       "      <td>2.0</td>\n",
       "      <td>halooglasi</td>\n",
       "      <td>3816</td>\n",
       "      <td>Plato Hrama Svetog Save, Vračar, 76m2</td>\n",
       "      <td>NaN</td>\n",
       "      <td>NaN</td>\n",
       "    </tr>\n",
       "    <tr>\n",
       "      <th>1</th>\n",
       "      <td>41</td>\n",
       "      <td>Vrnjačka Banja</td>\n",
       "      <td>2</td>\n",
       "      <td>Gradska lokacija , Raj , Kosovska br.1</td>\n",
       "      <td>82000</td>\n",
       "      <td>2.0</td>\n",
       "      <td>halooglasi</td>\n",
       "      <td>2000</td>\n",
       "      <td>Lux stan Akva Park Raj</td>\n",
       "      <td>NaN</td>\n",
       "      <td>NaN</td>\n",
       "    </tr>\n",
       "    <tr>\n",
       "      <th>2</th>\n",
       "      <td>37</td>\n",
       "      <td>Sokobanja</td>\n",
       "      <td>1</td>\n",
       "      <td>Gradska lokacija , Banjica , Profesora Dragol...</td>\n",
       "      <td>60605</td>\n",
       "      <td>2.0</td>\n",
       "      <td>halooglasi</td>\n",
       "      <td>1650</td>\n",
       "      <td>Direktna prodaja stana u Sokobanji</td>\n",
       "      <td>NaN</td>\n",
       "      <td>NaN</td>\n",
       "    </tr>\n",
       "    <tr>\n",
       "      <th>3</th>\n",
       "      <td>34</td>\n",
       "      <td>Sokobanja</td>\n",
       "      <td>3</td>\n",
       "      <td>Gradska lokacija , Banjica , Profesora Dragol...</td>\n",
       "      <td>59488</td>\n",
       "      <td>1.5</td>\n",
       "      <td>halooglasi</td>\n",
       "      <td>1760</td>\n",
       "      <td>Direktna prodaja stana Sokobanja</td>\n",
       "      <td>NaN</td>\n",
       "      <td>NaN</td>\n",
       "    </tr>\n",
       "    <tr>\n",
       "      <th>4</th>\n",
       "      <td>55</td>\n",
       "      <td>Beograd</td>\n",
       "      <td>2</td>\n",
       "      <td>Opština Zemun , Altina , Ugrinovački put 8. deo</td>\n",
       "      <td>104500</td>\n",
       "      <td>2.0</td>\n",
       "      <td>halooglasi</td>\n",
       "      <td>1900</td>\n",
       "      <td>Zemun, Altina, 2.0</td>\n",
       "      <td>NaN</td>\n",
       "      <td>NaN</td>\n",
       "    </tr>\n",
       "  </tbody>\n",
       "</table>\n",
       "</div>"
      ],
      "text/plain": [
       "   area            city floor  \\\n",
       "0    76         Beograd     3   \n",
       "1    41  Vrnjačka Banja     2   \n",
       "2    37       Sokobanja     1   \n",
       "3    34       Sokobanja     3   \n",
       "4    55         Beograd     2   \n",
       "\n",
       "                                            location   price  rooms  \\\n",
       "0   Opština Vračar , Hram svetog Save , Svetog Save   290000    2.0   \n",
       "1            Gradska lokacija , Raj , Kosovska br.1    82000    2.0   \n",
       "2   Gradska lokacija , Banjica , Profesora Dragol...   60605    2.0   \n",
       "3   Gradska lokacija , Banjica , Profesora Dragol...   59488    1.5   \n",
       "4   Opština Zemun , Altina , Ugrinovački put 8. deo   104500    2.0   \n",
       "\n",
       "       source  square_price                                  title Unnamed: 9  \\\n",
       "0  halooglasi          3816  Plato Hrama Svetog Save, Vračar, 76m2        NaN   \n",
       "1  halooglasi          2000                 Lux stan Akva Park Raj        NaN   \n",
       "2  halooglasi          1650     Direktna prodaja stana u Sokobanji        NaN   \n",
       "3  halooglasi          1760       Direktna prodaja stana Sokobanja        NaN   \n",
       "4  halooglasi          1900                     Zemun, Altina, 2.0        NaN   \n",
       "\n",
       "  Unnamed: 10  \n",
       "0         NaN  \n",
       "1         NaN  \n",
       "2         NaN  \n",
       "3         NaN  \n",
       "4         NaN  "
      ]
     },
     "execution_count": 3,
     "metadata": {},
     "output_type": "execute_result"
    }
   ],
   "source": [
    "dataset.head()"
   ]
  },
  {
   "cell_type": "code",
   "execution_count": 11,
   "id": "fdc717de-a624-468a-8936-2bd057ce44b8",
   "metadata": {},
   "outputs": [
    {
     "data": {
      "text/plain": [
       "61798"
      ]
     },
     "execution_count": 11,
     "metadata": {},
     "output_type": "execute_result"
    }
   ],
   "source": [
    "dataset[dataset['city'] == 'Beograd']"
   ]
  },
  {
   "cell_type": "code",
   "execution_count": 13,
   "id": "cbd16424-823c-4e88-894e-9e7c129fc56d",
   "metadata": {},
   "outputs": [
    {
     "data": {
      "text/plain": [
       "128744"
      ]
     },
     "execution_count": 13,
     "metadata": {},
     "output_type": "execute_result"
    }
   ],
   "source": [
    "dataset.size"
   ]
  },
  {
   "cell_type": "code",
   "execution_count": 37,
   "id": "f19e5546-dfab-40b7-b136-501416f218b9",
   "metadata": {},
   "outputs": [
    {
     "data": {
      "text/html": [
       "<div>\n",
       "<style scoped>\n",
       "    .dataframe tbody tr th:only-of-type {\n",
       "        vertical-align: middle;\n",
       "    }\n",
       "\n",
       "    .dataframe tbody tr th {\n",
       "        vertical-align: top;\n",
       "    }\n",
       "\n",
       "    .dataframe thead th {\n",
       "        text-align: right;\n",
       "    }\n",
       "</style>\n",
       "<table border=\"1\" class=\"dataframe\">\n",
       "  <thead>\n",
       "    <tr style=\"text-align: right;\">\n",
       "      <th></th>\n",
       "      <th>area</th>\n",
       "      <th>city</th>\n",
       "      <th>floor</th>\n",
       "      <th>location</th>\n",
       "      <th>price</th>\n",
       "      <th>rooms</th>\n",
       "      <th>source</th>\n",
       "      <th>square_price</th>\n",
       "      <th>title</th>\n",
       "      <th>Unnamed: 9</th>\n",
       "      <th>Unnamed: 10</th>\n",
       "    </tr>\n",
       "  </thead>\n",
       "  <tbody>\n",
       "    <tr>\n",
       "      <th>0</th>\n",
       "      <td>76</td>\n",
       "      <td>Beograd</td>\n",
       "      <td>3</td>\n",
       "      <td>Opština Vračar , Hram svetog Save , Svetog Save</td>\n",
       "      <td>290000</td>\n",
       "      <td>2.0</td>\n",
       "      <td>halooglasi</td>\n",
       "      <td>3816</td>\n",
       "      <td>Plato Hrama Svetog Save, Vračar, 76m2</td>\n",
       "      <td>NaN</td>\n",
       "      <td>NaN</td>\n",
       "    </tr>\n",
       "    <tr>\n",
       "      <th>1</th>\n",
       "      <td>41</td>\n",
       "      <td>Vrnjačka Banja</td>\n",
       "      <td>2</td>\n",
       "      <td>Gradska lokacija , Raj , Kosovska br.1</td>\n",
       "      <td>82000</td>\n",
       "      <td>2.0</td>\n",
       "      <td>halooglasi</td>\n",
       "      <td>2000</td>\n",
       "      <td>Lux stan Akva Park Raj</td>\n",
       "      <td>NaN</td>\n",
       "      <td>NaN</td>\n",
       "    </tr>\n",
       "    <tr>\n",
       "      <th>2</th>\n",
       "      <td>37</td>\n",
       "      <td>Sokobanja</td>\n",
       "      <td>1</td>\n",
       "      <td>Gradska lokacija , Banjica , Profesora Dragol...</td>\n",
       "      <td>60605</td>\n",
       "      <td>2.0</td>\n",
       "      <td>halooglasi</td>\n",
       "      <td>1650</td>\n",
       "      <td>Direktna prodaja stana u Sokobanji</td>\n",
       "      <td>NaN</td>\n",
       "      <td>NaN</td>\n",
       "    </tr>\n",
       "    <tr>\n",
       "      <th>3</th>\n",
       "      <td>34</td>\n",
       "      <td>Sokobanja</td>\n",
       "      <td>3</td>\n",
       "      <td>Gradska lokacija , Banjica , Profesora Dragol...</td>\n",
       "      <td>59488</td>\n",
       "      <td>1.5</td>\n",
       "      <td>halooglasi</td>\n",
       "      <td>1760</td>\n",
       "      <td>Direktna prodaja stana Sokobanja</td>\n",
       "      <td>NaN</td>\n",
       "      <td>NaN</td>\n",
       "    </tr>\n",
       "    <tr>\n",
       "      <th>4</th>\n",
       "      <td>55</td>\n",
       "      <td>Beograd</td>\n",
       "      <td>2</td>\n",
       "      <td>Opština Zemun , Altina , Ugrinovački put 8. deo</td>\n",
       "      <td>104500</td>\n",
       "      <td>2.0</td>\n",
       "      <td>halooglasi</td>\n",
       "      <td>1900</td>\n",
       "      <td>Zemun, Altina, 2.0</td>\n",
       "      <td>NaN</td>\n",
       "      <td>NaN</td>\n",
       "    </tr>\n",
       "  </tbody>\n",
       "</table>\n",
       "</div>"
      ],
      "text/plain": [
       "   area            city floor  \\\n",
       "0    76         Beograd     3   \n",
       "1    41  Vrnjačka Banja     2   \n",
       "2    37       Sokobanja     1   \n",
       "3    34       Sokobanja     3   \n",
       "4    55         Beograd     2   \n",
       "\n",
       "                                            location   price  rooms  \\\n",
       "0   Opština Vračar , Hram svetog Save , Svetog Save   290000    2.0   \n",
       "1            Gradska lokacija , Raj , Kosovska br.1    82000    2.0   \n",
       "2   Gradska lokacija , Banjica , Profesora Dragol...   60605    2.0   \n",
       "3   Gradska lokacija , Banjica , Profesora Dragol...   59488    1.5   \n",
       "4   Opština Zemun , Altina , Ugrinovački put 8. deo   104500    2.0   \n",
       "\n",
       "       source  square_price                                  title Unnamed: 9  \\\n",
       "0  halooglasi          3816  Plato Hrama Svetog Save, Vračar, 76m2        NaN   \n",
       "1  halooglasi          2000                 Lux stan Akva Park Raj        NaN   \n",
       "2  halooglasi          1650     Direktna prodaja stana u Sokobanji        NaN   \n",
       "3  halooglasi          1760       Direktna prodaja stana Sokobanja        NaN   \n",
       "4  halooglasi          1900                     Zemun, Altina, 2.0        NaN   \n",
       "\n",
       "  Unnamed: 10  \n",
       "0         NaN  \n",
       "1         NaN  \n",
       "2         NaN  \n",
       "3         NaN  \n",
       "4         NaN  "
      ]
     },
     "execution_count": 37,
     "metadata": {},
     "output_type": "execute_result"
    }
   ],
   "source": [
    "dataset.head()"
   ]
  },
  {
   "cell_type": "code",
   "execution_count": 38,
   "id": "5e6d573c-1d53-447d-b7cf-247d1a127bce",
   "metadata": {},
   "outputs": [
    {
     "name": "stdout",
     "output_type": "stream",
     "text": [
      "<class 'pandas.core.frame.DataFrame'>\n",
      "RangeIndex: 11704 entries, 0 to 11703\n",
      "Data columns (total 11 columns):\n",
      " #   Column        Non-Null Count  Dtype  \n",
      "---  ------        --------------  -----  \n",
      " 0   area          11704 non-null  int64  \n",
      " 1   city          11704 non-null  object \n",
      " 2   floor         11586 non-null  object \n",
      " 3   location      11704 non-null  object \n",
      " 4   price         11704 non-null  int64  \n",
      " 5   rooms         11704 non-null  float64\n",
      " 6   source        11704 non-null  object \n",
      " 7   square_price  11704 non-null  int64  \n",
      " 8   title         11704 non-null  object \n",
      " 9   Unnamed: 9    5 non-null      object \n",
      " 10  Unnamed: 10   1 non-null      object \n",
      "dtypes: float64(1), int64(3), object(7)\n",
      "memory usage: 1005.9+ KB\n"
     ]
    }
   ],
   "source": [
    "dataset.info()"
   ]
  },
  {
   "cell_type": "code",
   "execution_count": 40,
   "id": "d0acda1b-5c9f-4167-a3d4-042153a962b8",
   "metadata": {},
   "outputs": [],
   "source": [
    "dataset.drop(['Unnamed: 9', 'Unnamed: 10'],axis=1,inplace=True)"
   ]
  },
  {
   "cell_type": "code",
   "execution_count": 41,
   "id": "fa258717-59a1-4c22-b34a-8006fbf8472e",
   "metadata": {},
   "outputs": [
    {
     "data": {
      "text/html": [
       "<div>\n",
       "<style scoped>\n",
       "    .dataframe tbody tr th:only-of-type {\n",
       "        vertical-align: middle;\n",
       "    }\n",
       "\n",
       "    .dataframe tbody tr th {\n",
       "        vertical-align: top;\n",
       "    }\n",
       "\n",
       "    .dataframe thead th {\n",
       "        text-align: right;\n",
       "    }\n",
       "</style>\n",
       "<table border=\"1\" class=\"dataframe\">\n",
       "  <thead>\n",
       "    <tr style=\"text-align: right;\">\n",
       "      <th></th>\n",
       "      <th>area</th>\n",
       "      <th>city</th>\n",
       "      <th>floor</th>\n",
       "      <th>location</th>\n",
       "      <th>price</th>\n",
       "      <th>rooms</th>\n",
       "      <th>source</th>\n",
       "      <th>square_price</th>\n",
       "      <th>title</th>\n",
       "    </tr>\n",
       "  </thead>\n",
       "  <tbody>\n",
       "    <tr>\n",
       "      <th>0</th>\n",
       "      <td>76</td>\n",
       "      <td>Beograd</td>\n",
       "      <td>3</td>\n",
       "      <td>Opština Vračar , Hram svetog Save , Svetog Save</td>\n",
       "      <td>290000</td>\n",
       "      <td>2.0</td>\n",
       "      <td>halooglasi</td>\n",
       "      <td>3816</td>\n",
       "      <td>Plato Hrama Svetog Save, Vračar, 76m2</td>\n",
       "    </tr>\n",
       "    <tr>\n",
       "      <th>1</th>\n",
       "      <td>41</td>\n",
       "      <td>Vrnjačka Banja</td>\n",
       "      <td>2</td>\n",
       "      <td>Gradska lokacija , Raj , Kosovska br.1</td>\n",
       "      <td>82000</td>\n",
       "      <td>2.0</td>\n",
       "      <td>halooglasi</td>\n",
       "      <td>2000</td>\n",
       "      <td>Lux stan Akva Park Raj</td>\n",
       "    </tr>\n",
       "    <tr>\n",
       "      <th>2</th>\n",
       "      <td>37</td>\n",
       "      <td>Sokobanja</td>\n",
       "      <td>1</td>\n",
       "      <td>Gradska lokacija , Banjica , Profesora Dragol...</td>\n",
       "      <td>60605</td>\n",
       "      <td>2.0</td>\n",
       "      <td>halooglasi</td>\n",
       "      <td>1650</td>\n",
       "      <td>Direktna prodaja stana u Sokobanji</td>\n",
       "    </tr>\n",
       "    <tr>\n",
       "      <th>3</th>\n",
       "      <td>34</td>\n",
       "      <td>Sokobanja</td>\n",
       "      <td>3</td>\n",
       "      <td>Gradska lokacija , Banjica , Profesora Dragol...</td>\n",
       "      <td>59488</td>\n",
       "      <td>1.5</td>\n",
       "      <td>halooglasi</td>\n",
       "      <td>1760</td>\n",
       "      <td>Direktna prodaja stana Sokobanja</td>\n",
       "    </tr>\n",
       "    <tr>\n",
       "      <th>4</th>\n",
       "      <td>55</td>\n",
       "      <td>Beograd</td>\n",
       "      <td>2</td>\n",
       "      <td>Opština Zemun , Altina , Ugrinovački put 8. deo</td>\n",
       "      <td>104500</td>\n",
       "      <td>2.0</td>\n",
       "      <td>halooglasi</td>\n",
       "      <td>1900</td>\n",
       "      <td>Zemun, Altina, 2.0</td>\n",
       "    </tr>\n",
       "  </tbody>\n",
       "</table>\n",
       "</div>"
      ],
      "text/plain": [
       "   area            city floor  \\\n",
       "0    76         Beograd     3   \n",
       "1    41  Vrnjačka Banja     2   \n",
       "2    37       Sokobanja     1   \n",
       "3    34       Sokobanja     3   \n",
       "4    55         Beograd     2   \n",
       "\n",
       "                                            location   price  rooms  \\\n",
       "0   Opština Vračar , Hram svetog Save , Svetog Save   290000    2.0   \n",
       "1            Gradska lokacija , Raj , Kosovska br.1    82000    2.0   \n",
       "2   Gradska lokacija , Banjica , Profesora Dragol...   60605    2.0   \n",
       "3   Gradska lokacija , Banjica , Profesora Dragol...   59488    1.5   \n",
       "4   Opština Zemun , Altina , Ugrinovački put 8. deo   104500    2.0   \n",
       "\n",
       "       source  square_price                                  title  \n",
       "0  halooglasi          3816  Plato Hrama Svetog Save, Vračar, 76m2  \n",
       "1  halooglasi          2000                 Lux stan Akva Park Raj  \n",
       "2  halooglasi          1650     Direktna prodaja stana u Sokobanji  \n",
       "3  halooglasi          1760       Direktna prodaja stana Sokobanja  \n",
       "4  halooglasi          1900                     Zemun, Altina, 2.0  "
      ]
     },
     "execution_count": 41,
     "metadata": {},
     "output_type": "execute_result"
    }
   ],
   "source": [
    "dataset.head()"
   ]
  },
  {
   "cell_type": "code",
   "execution_count": 42,
   "id": "043a5002-1a34-42ad-b1bc-23915812b27a",
   "metadata": {},
   "outputs": [
    {
     "name": "stdout",
     "output_type": "stream",
     "text": [
      "<class 'pandas.core.frame.DataFrame'>\n",
      "RangeIndex: 11704 entries, 0 to 11703\n",
      "Data columns (total 9 columns):\n",
      " #   Column        Non-Null Count  Dtype  \n",
      "---  ------        --------------  -----  \n",
      " 0   area          11704 non-null  int64  \n",
      " 1   city          11704 non-null  object \n",
      " 2   floor         11586 non-null  object \n",
      " 3   location      11704 non-null  object \n",
      " 4   price         11704 non-null  int64  \n",
      " 5   rooms         11704 non-null  float64\n",
      " 6   source        11704 non-null  object \n",
      " 7   square_price  11704 non-null  int64  \n",
      " 8   title         11704 non-null  object \n",
      "dtypes: float64(1), int64(3), object(5)\n",
      "memory usage: 823.1+ KB\n"
     ]
    }
   ],
   "source": [
    "dataset.info()"
   ]
  },
  {
   "cell_type": "code",
   "execution_count": 43,
   "id": "293478c8-b56f-463e-b137-8cc54269088b",
   "metadata": {},
   "outputs": [],
   "source": [
    "import matplotlib.pyplot as plt\n",
    "import seaborn as sns"
   ]
  },
  {
   "cell_type": "code",
   "execution_count": 44,
   "id": "6c69528e-95d6-4974-b1ff-06e88d3f92f7",
   "metadata": {},
   "outputs": [],
   "source": [
    "sns.set(style = \"whitegrid\", palette=\"muted\")"
   ]
  },
  {
   "cell_type": "code",
   "execution_count": 48,
   "id": "bf58eb60-5621-4419-a611-b4e7076cb81a",
   "metadata": {},
   "outputs": [
    {
     "data": {
      "image/png": "[encoded data removed]",
      "text/plain": [
       "<Figure size 1000x600 with 1 Axes>"
      ]
     },
     "metadata": {},
     "output_type": "display_data"
    }
   ],
   "source": [
    "plt.figure(figsize=(10,6))\n",
    "sns.histplot(dataset['price'], bins=50, kde=True)\n",
    "plt.title('Distribucija cene stanova')\n",
    "plt.xlabel('Cena u evrima')\n",
    "plt.ylabel('Broj stanova')\n",
    "plt.show()"
   ]
  },
  {
   "cell_type": "code",
   "execution_count": null,
   "id": "79121789-4cee-4f46-96b5-30289058d678",
   "metadata": {},
   "outputs": [],
   "source": []
  }
 ],
 "metadata": {
  "kernelspec": {
   "display_name": "Python 3 (ipykernel)",
   "language": "python",
   "name": "python3"
  },
  "language_info": {
   "codemirror_mode": {
    "name": "ipython",
    "version": 3
   },
   "file_extension": ".py",
   "mimetype": "text/x-python",
   "name": "python",
   "nbconvert_exporter": "python",
   "pygments_lexer": "ipython3",
   "version": "3.11.0"
  }
 },
 "nbformat": 4,
 "nbformat_minor": 5
}
