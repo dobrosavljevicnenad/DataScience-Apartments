{
 "cells": [
  {
   "cell_type": "code",
   "execution_count": 64,
   "id": "0447e3b8-2d73-45fa-ad38-c0169bc5def1",
   "metadata": {},
   "outputs": [],
   "source": [
    "import pandas as pd"
   ]
  },
  {
   "cell_type": "code",
   "execution_count": 65,
   "id": "9377379e-bbf8-48c8-aab0-afc14911d4c2",
   "metadata": {},
   "outputs": [],
   "source": [
    "dataset = pd.read_csv('apartmentsdata.csv')"
   ]
  },
  {
   "cell_type": "code",
   "execution_count": 66,
   "id": "d603b6c2-d035-44cd-9bd6-1f1af7c427d9",
   "metadata": {},
   "outputs": [
    {
     "data": {
      "text/html": [
       "<div>\n",
       "<style scoped>\n",
       "    .dataframe tbody tr th:only-of-type {\n",
       "        vertical-align: middle;\n",
       "    }\n",
       "\n",
       "    .dataframe tbody tr th {\n",
       "        vertical-align: top;\n",
       "    }\n",
       "\n",
       "    .dataframe thead th {\n",
       "        text-align: right;\n",
       "    }\n",
       "</style>\n",
       "<table border=\"1\" class=\"dataframe\">\n",
       "  <thead>\n",
       "    <tr style=\"text-align: right;\">\n",
       "      <th></th>\n",
       "      <th>area</th>\n",
       "      <th>city</th>\n",
       "      <th>floor</th>\n",
       "      <th>location</th>\n",
       "      <th>price</th>\n",
       "      <th>rooms</th>\n",
       "      <th>source</th>\n",
       "      <th>square_price</th>\n",
       "      <th>title</th>\n",
       "      <th>Unnamed: 9</th>\n",
       "      <th>Unnamed: 10</th>\n",
       "    </tr>\n",
       "  </thead>\n",
       "  <tbody>\n",
       "    <tr>\n",
       "      <th>0</th>\n",
       "      <td>76</td>\n",
       "      <td>Beograd</td>\n",
       "      <td>3</td>\n",
       "      <td>Opština Vračar , Hram svetog Save , Svetog Save</td>\n",
       "      <td>290000</td>\n",
       "      <td>2.0</td>\n",
       "      <td>halooglasi</td>\n",
       "      <td>3816</td>\n",
       "      <td>Plato Hrama Svetog Save, Vračar, 76m2</td>\n",
       "      <td>NaN</td>\n",
       "      <td>NaN</td>\n",
       "    </tr>\n",
       "    <tr>\n",
       "      <th>1</th>\n",
       "      <td>41</td>\n",
       "      <td>Vrnjačka Banja</td>\n",
       "      <td>2</td>\n",
       "      <td>Gradska lokacija , Raj , Kosovska br.1</td>\n",
       "      <td>82000</td>\n",
       "      <td>2.0</td>\n",
       "      <td>halooglasi</td>\n",
       "      <td>2000</td>\n",
       "      <td>Lux stan Akva Park Raj</td>\n",
       "      <td>NaN</td>\n",
       "      <td>NaN</td>\n",
       "    </tr>\n",
       "    <tr>\n",
       "      <th>2</th>\n",
       "      <td>37</td>\n",
       "      <td>Sokobanja</td>\n",
       "      <td>1</td>\n",
       "      <td>Gradska lokacija , Banjica , Profesora Dragol...</td>\n",
       "      <td>60605</td>\n",
       "      <td>2.0</td>\n",
       "      <td>halooglasi</td>\n",
       "      <td>1650</td>\n",
       "      <td>Direktna prodaja stana u Sokobanji</td>\n",
       "      <td>NaN</td>\n",
       "      <td>NaN</td>\n",
       "    </tr>\n",
       "    <tr>\n",
       "      <th>3</th>\n",
       "      <td>34</td>\n",
       "      <td>Sokobanja</td>\n",
       "      <td>3</td>\n",
       "      <td>Gradska lokacija , Banjica , Profesora Dragol...</td>\n",
       "      <td>59488</td>\n",
       "      <td>1.5</td>\n",
       "      <td>halooglasi</td>\n",
       "      <td>1760</td>\n",
       "      <td>Direktna prodaja stana Sokobanja</td>\n",
       "      <td>NaN</td>\n",
       "      <td>NaN</td>\n",
       "    </tr>\n",
       "    <tr>\n",
       "      <th>4</th>\n",
       "      <td>55</td>\n",
       "      <td>Beograd</td>\n",
       "      <td>2</td>\n",
       "      <td>Opština Zemun , Altina , Ugrinovački put 8. deo</td>\n",
       "      <td>104500</td>\n",
       "      <td>2.0</td>\n",
       "      <td>halooglasi</td>\n",
       "      <td>1900</td>\n",
       "      <td>Zemun, Altina, 2.0</td>\n",
       "      <td>NaN</td>\n",
       "      <td>NaN</td>\n",
       "    </tr>\n",
       "  </tbody>\n",
       "</table>\n",
       "</div>"
      ],
      "text/plain": [
       "   area            city floor  \\\n",
       "0    76         Beograd     3   \n",
       "1    41  Vrnjačka Banja     2   \n",
       "2    37       Sokobanja     1   \n",
       "3    34       Sokobanja     3   \n",
       "4    55         Beograd     2   \n",
       "\n",
       "                                            location   price  rooms  \\\n",
       "0   Opština Vračar , Hram svetog Save , Svetog Save   290000    2.0   \n",
       "1            Gradska lokacija , Raj , Kosovska br.1    82000    2.0   \n",
       "2   Gradska lokacija , Banjica , Profesora Dragol...   60605    2.0   \n",
       "3   Gradska lokacija , Banjica , Profesora Dragol...   59488    1.5   \n",
       "4   Opština Zemun , Altina , Ugrinovački put 8. deo   104500    2.0   \n",
       "\n",
       "       source  square_price                                  title Unnamed: 9  \\\n",
       "0  halooglasi          3816  Plato Hrama Svetog Save, Vračar, 76m2        NaN   \n",
       "1  halooglasi          2000                 Lux stan Akva Park Raj        NaN   \n",
       "2  halooglasi          1650     Direktna prodaja stana u Sokobanji        NaN   \n",
       "3  halooglasi          1760       Direktna prodaja stana Sokobanja        NaN   \n",
       "4  halooglasi          1900                     Zemun, Altina, 2.0        NaN   \n",
       "\n",
       "  Unnamed: 10  \n",
       "0         NaN  \n",
       "1         NaN  \n",
       "2         NaN  \n",
       "3         NaN  \n",
       "4         NaN  "
      ]
     },
     "execution_count": 66,
     "metadata": {},
     "output_type": "execute_result"
    }
   ],
   "source": [
    "dataset.head()"
   ]
  },
  {
   "cell_type": "code",
   "execution_count": 67,
   "id": "56527f61-939a-46c9-bdaf-c9ef4a4ec966",
   "metadata": {},
   "outputs": [
    {
     "name": "stdout",
     "output_type": "stream",
     "text": [
      " Opština Vračar , Hram svetog Save , Svetog Save \n",
      " Gradska lokacija , Raj , Kosovska br.1 \n",
      " Gradska lokacija , Banjica , Profesora Dragoljuba Jovanovića \n",
      " Gradska lokacija , Banjica , Profesora Dragoljuba Jovanovića \n",
      " Opština Zemun , Altina , Ugrinovački put 8. deo \n",
      " Okolno mesto , Brzeće , Mramorska88 \n"
     ]
    }
   ],
   "source": [
    "for i,loc in enumerate(dataset['location']):\n",
    "    print(loc)\n",
    "    if i==5:\n",
    "        break"
   ]
  },
  {
   "cell_type": "code",
   "execution_count": 68,
   "id": "92737d9f-0a44-492d-9f91-50f5d6edd3bf",
   "metadata": {},
   "outputs": [],
   "source": [
    "location_split = dataset['location'].str.split(',', expand=True)"
   ]
  },
  {
   "cell_type": "code",
   "execution_count": 69,
   "id": "12d4369d-ba65-433c-ba3f-bec967fde9f5",
   "metadata": {},
   "outputs": [
    {
     "data": {
      "text/html": [
       "<div>\n",
       "<style scoped>\n",
       "    .dataframe tbody tr th:only-of-type {\n",
       "        vertical-align: middle;\n",
       "    }\n",
       "\n",
       "    .dataframe tbody tr th {\n",
       "        vertical-align: top;\n",
       "    }\n",
       "\n",
       "    .dataframe thead th {\n",
       "        text-align: right;\n",
       "    }\n",
       "</style>\n",
       "<table border=\"1\" class=\"dataframe\">\n",
       "  <thead>\n",
       "    <tr style=\"text-align: right;\">\n",
       "      <th></th>\n",
       "      <th>location</th>\n",
       "      <th>opstina</th>\n",
       "      <th>naselje</th>\n",
       "      <th>ulica</th>\n",
       "    </tr>\n",
       "  </thead>\n",
       "  <tbody>\n",
       "    <tr>\n",
       "      <th>0</th>\n",
       "      <td>Opština Vračar , Hram svetog Save , Svetog Save</td>\n",
       "      <td>Opština Vračar</td>\n",
       "      <td>Hram svetog Save</td>\n",
       "      <td>Svetog Save</td>\n",
       "    </tr>\n",
       "    <tr>\n",
       "      <th>1</th>\n",
       "      <td>Gradska lokacija , Raj , Kosovska br.1</td>\n",
       "      <td>Gradska lokacija</td>\n",
       "      <td>Raj</td>\n",
       "      <td>Kosovska br.1</td>\n",
       "    </tr>\n",
       "    <tr>\n",
       "      <th>2</th>\n",
       "      <td>Gradska lokacija , Banjica , Profesora Dragol...</td>\n",
       "      <td>Gradska lokacija</td>\n",
       "      <td>Banjica</td>\n",
       "      <td>Profesora Dragoljuba Jovanovića</td>\n",
       "    </tr>\n",
       "    <tr>\n",
       "      <th>3</th>\n",
       "      <td>Gradska lokacija , Banjica , Profesora Dragol...</td>\n",
       "      <td>Gradska lokacija</td>\n",
       "      <td>Banjica</td>\n",
       "      <td>Profesora Dragoljuba Jovanovića</td>\n",
       "    </tr>\n",
       "    <tr>\n",
       "      <th>4</th>\n",
       "      <td>Opština Zemun , Altina , Ugrinovački put 8. deo</td>\n",
       "      <td>Opština Zemun</td>\n",
       "      <td>Altina</td>\n",
       "      <td>Ugrinovački put 8. deo</td>\n",
       "    </tr>\n",
       "  </tbody>\n",
       "</table>\n",
       "</div>"
      ],
      "text/plain": [
       "                                            location           opstina  \\\n",
       "0   Opština Vračar , Hram svetog Save , Svetog Save     Opština Vračar   \n",
       "1            Gradska lokacija , Raj , Kosovska br.1   Gradska lokacija   \n",
       "2   Gradska lokacija , Banjica , Profesora Dragol...  Gradska lokacija   \n",
       "3   Gradska lokacija , Banjica , Profesora Dragol...  Gradska lokacija   \n",
       "4   Opština Zemun , Altina , Ugrinovački put 8. deo      Opština Zemun   \n",
       "\n",
       "            naselje                            ulica  \n",
       "0  Hram svetog Save                      Svetog Save  \n",
       "1               Raj                    Kosovska br.1  \n",
       "2           Banjica  Profesora Dragoljuba Jovanovića  \n",
       "3           Banjica  Profesora Dragoljuba Jovanovića  \n",
       "4            Altina           Ugrinovački put 8. deo  "
      ]
     },
     "execution_count": 69,
     "metadata": {},
     "output_type": "execute_result"
    }
   ],
   "source": [
    "dataset['opstina'] = location_split[0].str.strip() \n",
    "dataset['naselje'] = location_split[1].str.strip()\n",
    "dataset['ulica'] = location_split[2].str.strip()\n",
    "\n",
    "dataset[['location', 'opstina', 'naselje', 'ulica']].head()"
   ]
  },
  {
   "cell_type": "code",
   "execution_count": 70,
   "id": "e6c25ad4-67b4-46a9-ad94-4287e3488eaa",
   "metadata": {},
   "outputs": [],
   "source": [
    "dataset.drop(['Unnamed: 9', 'Unnamed: 10'], axis=1, inplace=True)"
   ]
  },
  {
   "cell_type": "code",
   "execution_count": 71,
   "id": "3ff8ee69-d758-4897-ac98-3f3ecb57742f",
   "metadata": {},
   "outputs": [],
   "source": [
    "dataset.rename(columns={\n",
    "    'opstina': 'municipality',\n",
    "    'naselje': 'neighborhood',\n",
    "    'ulica': 'street'\n",
    "}, inplace=True)"
   ]
  },
  {
   "cell_type": "code",
   "execution_count": 72,
   "id": "69f57d35-aa42-4655-bbb4-315a714d5ad6",
   "metadata": {},
   "outputs": [
    {
     "data": {
      "text/html": [
       "<div>\n",
       "<style scoped>\n",
       "    .dataframe tbody tr th:only-of-type {\n",
       "        vertical-align: middle;\n",
       "    }\n",
       "\n",
       "    .dataframe tbody tr th {\n",
       "        vertical-align: top;\n",
       "    }\n",
       "\n",
       "    .dataframe thead th {\n",
       "        text-align: right;\n",
       "    }\n",
       "</style>\n",
       "<table border=\"1\" class=\"dataframe\">\n",
       "  <thead>\n",
       "    <tr style=\"text-align: right;\">\n",
       "      <th></th>\n",
       "      <th>area</th>\n",
       "      <th>city</th>\n",
       "      <th>floor</th>\n",
       "      <th>location</th>\n",
       "      <th>price</th>\n",
       "      <th>rooms</th>\n",
       "      <th>source</th>\n",
       "      <th>square_price</th>\n",
       "      <th>title</th>\n",
       "      <th>municipality</th>\n",
       "      <th>neighborhood</th>\n",
       "      <th>street</th>\n",
       "    </tr>\n",
       "  </thead>\n",
       "  <tbody>\n",
       "    <tr>\n",
       "      <th>0</th>\n",
       "      <td>76</td>\n",
       "      <td>Beograd</td>\n",
       "      <td>3</td>\n",
       "      <td>Opština Vračar , Hram svetog Save , Svetog Save</td>\n",
       "      <td>290000</td>\n",
       "      <td>2.0</td>\n",
       "      <td>halooglasi</td>\n",
       "      <td>3816</td>\n",
       "      <td>Plato Hrama Svetog Save, Vračar, 76m2</td>\n",
       "      <td>Opština Vračar</td>\n",
       "      <td>Hram svetog Save</td>\n",
       "      <td>Svetog Save</td>\n",
       "    </tr>\n",
       "    <tr>\n",
       "      <th>1</th>\n",
       "      <td>41</td>\n",
       "      <td>Vrnjačka Banja</td>\n",
       "      <td>2</td>\n",
       "      <td>Gradska lokacija , Raj , Kosovska br.1</td>\n",
       "      <td>82000</td>\n",
       "      <td>2.0</td>\n",
       "      <td>halooglasi</td>\n",
       "      <td>2000</td>\n",
       "      <td>Lux stan Akva Park Raj</td>\n",
       "      <td>Gradska lokacija</td>\n",
       "      <td>Raj</td>\n",
       "      <td>Kosovska br.1</td>\n",
       "    </tr>\n",
       "    <tr>\n",
       "      <th>2</th>\n",
       "      <td>37</td>\n",
       "      <td>Sokobanja</td>\n",
       "      <td>1</td>\n",
       "      <td>Gradska lokacija , Banjica , Profesora Dragol...</td>\n",
       "      <td>60605</td>\n",
       "      <td>2.0</td>\n",
       "      <td>halooglasi</td>\n",
       "      <td>1650</td>\n",
       "      <td>Direktna prodaja stana u Sokobanji</td>\n",
       "      <td>Gradska lokacija</td>\n",
       "      <td>Banjica</td>\n",
       "      <td>Profesora Dragoljuba Jovanovića</td>\n",
       "    </tr>\n",
       "    <tr>\n",
       "      <th>3</th>\n",
       "      <td>34</td>\n",
       "      <td>Sokobanja</td>\n",
       "      <td>3</td>\n",
       "      <td>Gradska lokacija , Banjica , Profesora Dragol...</td>\n",
       "      <td>59488</td>\n",
       "      <td>1.5</td>\n",
       "      <td>halooglasi</td>\n",
       "      <td>1760</td>\n",
       "      <td>Direktna prodaja stana Sokobanja</td>\n",
       "      <td>Gradska lokacija</td>\n",
       "      <td>Banjica</td>\n",
       "      <td>Profesora Dragoljuba Jovanovića</td>\n",
       "    </tr>\n",
       "    <tr>\n",
       "      <th>4</th>\n",
       "      <td>55</td>\n",
       "      <td>Beograd</td>\n",
       "      <td>2</td>\n",
       "      <td>Opština Zemun , Altina , Ugrinovački put 8. deo</td>\n",
       "      <td>104500</td>\n",
       "      <td>2.0</td>\n",
       "      <td>halooglasi</td>\n",
       "      <td>1900</td>\n",
       "      <td>Zemun, Altina, 2.0</td>\n",
       "      <td>Opština Zemun</td>\n",
       "      <td>Altina</td>\n",
       "      <td>Ugrinovački put 8. deo</td>\n",
       "    </tr>\n",
       "  </tbody>\n",
       "</table>\n",
       "</div>"
      ],
      "text/plain": [
       "   area            city floor  \\\n",
       "0    76         Beograd     3   \n",
       "1    41  Vrnjačka Banja     2   \n",
       "2    37       Sokobanja     1   \n",
       "3    34       Sokobanja     3   \n",
       "4    55         Beograd     2   \n",
       "\n",
       "                                            location   price  rooms  \\\n",
       "0   Opština Vračar , Hram svetog Save , Svetog Save   290000    2.0   \n",
       "1            Gradska lokacija , Raj , Kosovska br.1    82000    2.0   \n",
       "2   Gradska lokacija , Banjica , Profesora Dragol...   60605    2.0   \n",
       "3   Gradska lokacija , Banjica , Profesora Dragol...   59488    1.5   \n",
       "4   Opština Zemun , Altina , Ugrinovački put 8. deo   104500    2.0   \n",
       "\n",
       "       source  square_price                                  title  \\\n",
       "0  halooglasi          3816  Plato Hrama Svetog Save, Vračar, 76m2   \n",
       "1  halooglasi          2000                 Lux stan Akva Park Raj   \n",
       "2  halooglasi          1650     Direktna prodaja stana u Sokobanji   \n",
       "3  halooglasi          1760       Direktna prodaja stana Sokobanja   \n",
       "4  halooglasi          1900                     Zemun, Altina, 2.0   \n",
       "\n",
       "       municipality      neighborhood                           street  \n",
       "0    Opština Vračar  Hram svetog Save                      Svetog Save  \n",
       "1  Gradska lokacija               Raj                    Kosovska br.1  \n",
       "2  Gradska lokacija           Banjica  Profesora Dragoljuba Jovanovića  \n",
       "3  Gradska lokacija           Banjica  Profesora Dragoljuba Jovanovića  \n",
       "4     Opština Zemun            Altina           Ugrinovački put 8. deo  "
      ]
     },
     "execution_count": 72,
     "metadata": {},
     "output_type": "execute_result"
    }
   ],
   "source": [
    "dataset.head()"
   ]
  },
  {
   "cell_type": "code",
   "execution_count": 73,
   "id": "85c2bb57-dd88-4052-a11b-5fb4bc3efc81",
   "metadata": {},
   "outputs": [],
   "source": [
    "dataset.drop('location', axis=1, inplace=True)"
   ]
  },
  {
   "cell_type": "code",
   "execution_count": 74,
   "id": "c4047cef-2709-42bf-ae4a-7aca6541ac9d",
   "metadata": {},
   "outputs": [],
   "source": [
    "# we don't need title and source, so we can drop them\n",
    "dataset.drop(['title', 'source'], axis=1, inplace=True)"
   ]
  },
  {
   "cell_type": "code",
   "execution_count": 75,
   "id": "49231891-71dd-4275-87bc-920d0a2e0c33",
   "metadata": {},
   "outputs": [
    {
     "data": {
      "text/html": [
       "<div>\n",
       "<style scoped>\n",
       "    .dataframe tbody tr th:only-of-type {\n",
       "        vertical-align: middle;\n",
       "    }\n",
       "\n",
       "    .dataframe tbody tr th {\n",
       "        vertical-align: top;\n",
       "    }\n",
       "\n",
       "    .dataframe thead th {\n",
       "        text-align: right;\n",
       "    }\n",
       "</style>\n",
       "<table border=\"1\" class=\"dataframe\">\n",
       "  <thead>\n",
       "    <tr style=\"text-align: right;\">\n",
       "      <th></th>\n",
       "      <th>area</th>\n",
       "      <th>city</th>\n",
       "      <th>floor</th>\n",
       "      <th>price</th>\n",
       "      <th>rooms</th>\n",
       "      <th>square_price</th>\n",
       "      <th>municipality</th>\n",
       "      <th>neighborhood</th>\n",
       "      <th>street</th>\n",
       "    </tr>\n",
       "  </thead>\n",
       "  <tbody>\n",
       "    <tr>\n",
       "      <th>0</th>\n",
       "      <td>76</td>\n",
       "      <td>Beograd</td>\n",
       "      <td>3</td>\n",
       "      <td>290000</td>\n",
       "      <td>2.0</td>\n",
       "      <td>3816</td>\n",
       "      <td>Opština Vračar</td>\n",
       "      <td>Hram svetog Save</td>\n",
       "      <td>Svetog Save</td>\n",
       "    </tr>\n",
       "    <tr>\n",
       "      <th>1</th>\n",
       "      <td>41</td>\n",
       "      <td>Vrnjačka Banja</td>\n",
       "      <td>2</td>\n",
       "      <td>82000</td>\n",
       "      <td>2.0</td>\n",
       "      <td>2000</td>\n",
       "      <td>Gradska lokacija</td>\n",
       "      <td>Raj</td>\n",
       "      <td>Kosovska br.1</td>\n",
       "    </tr>\n",
       "    <tr>\n",
       "      <th>2</th>\n",
       "      <td>37</td>\n",
       "      <td>Sokobanja</td>\n",
       "      <td>1</td>\n",
       "      <td>60605</td>\n",
       "      <td>2.0</td>\n",
       "      <td>1650</td>\n",
       "      <td>Gradska lokacija</td>\n",
       "      <td>Banjica</td>\n",
       "      <td>Profesora Dragoljuba Jovanovića</td>\n",
       "    </tr>\n",
       "    <tr>\n",
       "      <th>3</th>\n",
       "      <td>34</td>\n",
       "      <td>Sokobanja</td>\n",
       "      <td>3</td>\n",
       "      <td>59488</td>\n",
       "      <td>1.5</td>\n",
       "      <td>1760</td>\n",
       "      <td>Gradska lokacija</td>\n",
       "      <td>Banjica</td>\n",
       "      <td>Profesora Dragoljuba Jovanovića</td>\n",
       "    </tr>\n",
       "    <tr>\n",
       "      <th>4</th>\n",
       "      <td>55</td>\n",
       "      <td>Beograd</td>\n",
       "      <td>2</td>\n",
       "      <td>104500</td>\n",
       "      <td>2.0</td>\n",
       "      <td>1900</td>\n",
       "      <td>Opština Zemun</td>\n",
       "      <td>Altina</td>\n",
       "      <td>Ugrinovački put 8. deo</td>\n",
       "    </tr>\n",
       "  </tbody>\n",
       "</table>\n",
       "</div>"
      ],
      "text/plain": [
       "   area            city floor   price  rooms  square_price      municipality  \\\n",
       "0    76         Beograd     3  290000    2.0          3816    Opština Vračar   \n",
       "1    41  Vrnjačka Banja     2   82000    2.0          2000  Gradska lokacija   \n",
       "2    37       Sokobanja     1   60605    2.0          1650  Gradska lokacija   \n",
       "3    34       Sokobanja     3   59488    1.5          1760  Gradska lokacija   \n",
       "4    55         Beograd     2  104500    2.0          1900     Opština Zemun   \n",
       "\n",
       "       neighborhood                           street  \n",
       "0  Hram svetog Save                      Svetog Save  \n",
       "1               Raj                    Kosovska br.1  \n",
       "2           Banjica  Profesora Dragoljuba Jovanovića  \n",
       "3           Banjica  Profesora Dragoljuba Jovanovića  \n",
       "4            Altina           Ugrinovački put 8. deo  "
      ]
     },
     "execution_count": 75,
     "metadata": {},
     "output_type": "execute_result"
    }
   ],
   "source": [
    "dataset.head()"
   ]
  },
  {
   "cell_type": "code",
   "execution_count": 76,
   "id": "37cbecf6-10bc-44de-b80b-1dd4fcb1523b",
   "metadata": {},
   "outputs": [
    {
     "name": "stdout",
     "output_type": "stream",
     "text": [
      "<class 'pandas.core.frame.DataFrame'>\n",
      "RangeIndex: 11704 entries, 0 to 11703\n",
      "Data columns (total 9 columns):\n",
      " #   Column        Non-Null Count  Dtype  \n",
      "---  ------        --------------  -----  \n",
      " 0   area          11704 non-null  int64  \n",
      " 1   city          11704 non-null  object \n",
      " 2   floor         11586 non-null  object \n",
      " 3   price         11704 non-null  int64  \n",
      " 4   rooms         11704 non-null  float64\n",
      " 5   square_price  11704 non-null  int64  \n",
      " 6   municipality  11704 non-null  object \n",
      " 7   neighborhood  11265 non-null  object \n",
      " 8   street        8967 non-null   object \n",
      "dtypes: float64(1), int64(3), object(5)\n",
      "memory usage: 823.1+ KB\n"
     ]
    }
   ],
   "source": [
    "dataset.info()"
   ]
  },
  {
   "cell_type": "code",
   "execution_count": 77,
   "id": "b4e2654d-44fc-4861-9f06-e4cfc491444d",
   "metadata": {},
   "outputs": [
    {
     "name": "stdout",
     "output_type": "stream",
     "text": [
      "floor\n",
      "neighborhood\n",
      "street\n"
     ]
    }
   ],
   "source": [
    "for col in dataset.columns:\n",
    "    if dataset[col].isna().any():\n",
    "        print(col)"
   ]
  },
  {
   "cell_type": "code",
   "execution_count": 78,
   "id": "89f86fb8-07d4-4d10-bd79-9e4a8ef92946",
   "metadata": {},
   "outputs": [],
   "source": [
    "# NaN values in column neighborhood can be replaced with values in municipality\n",
    "dataset['neighborhood'] = dataset['municipality'].fillna(dataset['municipality'])"
   ]
  },
  {
   "cell_type": "code",
   "execution_count": 79,
   "id": "962b2071-f92d-48e1-9aa7-14bc55e959c6",
   "metadata": {},
   "outputs": [
    {
     "data": {
      "text/plain": [
       "array(['3', '2', '1', '4', '0', '9', '6', '5', '0.5', '11', 'p', '7',\n",
       "       '15', '-0.5', '8', '16', '10', '17', '25', '18', '12', '14', '23',\n",
       "       '29', '27', '13', '19', '26', '20', '24', '22', nan], dtype=object)"
      ]
     },
     "execution_count": 79,
     "metadata": {},
     "output_type": "execute_result"
    }
   ],
   "source": [
    "dataset['floor'].unique()"
   ]
  },
  {
   "cell_type": "code",
   "execution_count": 80,
   "id": "6801ddbe-48e4-4a35-a19a-70cfeef4a664",
   "metadata": {},
   "outputs": [],
   "source": [
    "dataset['floor'] = dataset['floor'].replace('p', 0)\n",
    "dataset['floor'] = dataset['floor'].astype(float).abs()"
   ]
  },
  {
   "cell_type": "code",
   "execution_count": 81,
   "id": "334f17f9-d40f-4555-b92e-2787177b278e",
   "metadata": {},
   "outputs": [
    {
     "name": "stdout",
     "output_type": "stream",
     "text": [
      "========================================\n",
      "Grad: 25. Maj (1 redova)\n",
      "========================================\n",
      "5.0\n",
      "========================================\n",
      "Grad: 4. Juli (3 redova)\n",
      "========================================\n",
      "4.0\n",
      "1.0\n",
      "3.0\n",
      "========================================\n",
      "Grad: A Blok - Blok 67a (1 redova)\n",
      "========================================\n",
      "2.0\n"
     ]
    }
   ],
   "source": [
    "for i, (city, group) in enumerate(dataset.groupby('neighborhood')['floor']):\n",
    "    if i==3:\n",
    "        break\n",
    "    print(\"=\" * 40)\n",
    "    print(f\"Grad: {city} ({len(group)} redova)\")\n",
    "    print(\"=\" * 40)\n",
    "    print(group.to_string(index=False))"
   ]
  },
  {
   "cell_type": "code",
   "execution_count": 82,
   "id": "ebba7bda-bd83-4854-ab0b-ab084fce8f71",
   "metadata": {},
   "outputs": [
    {
     "data": {
      "text/plain": [
       "np.False_"
      ]
     },
     "execution_count": 82,
     "metadata": {},
     "output_type": "execute_result"
    }
   ],
   "source": [
    "dataset['neighborhood'].isna().any()"
   ]
  },
  {
   "cell_type": "code",
   "execution_count": 83,
   "id": "aea6de72-16f7-44b3-af2a-9b87eac2b0af",
   "metadata": {},
   "outputs": [],
   "source": [
    "city_median_floor = dataset.groupby('city')['floor'].transform('median')\n",
    "\n",
    "def fill_floor(x):\n",
    "    if x.notna().any():\n",
    "        return x.fillna(x.median())\n",
    "    else:\n",
    "        return x.fillna(city_median_floor[x.index])\n",
    "\n",
    "dataset['floor'] = dataset.groupby('neighborhood')['floor'].transform(fill_floor)"
   ]
  },
  {
   "cell_type": "code",
   "execution_count": 84,
   "id": "9afa17c9-46ff-442c-99c3-9ccb3bcf3e2a",
   "metadata": {},
   "outputs": [
    {
     "name": "stdout",
     "output_type": "stream",
     "text": [
      "<class 'pandas.core.frame.DataFrame'>\n",
      "RangeIndex: 11704 entries, 0 to 11703\n",
      "Data columns (total 9 columns):\n",
      " #   Column        Non-Null Count  Dtype  \n",
      "---  ------        --------------  -----  \n",
      " 0   area          11704 non-null  int64  \n",
      " 1   city          11704 non-null  object \n",
      " 2   floor         11704 non-null  float64\n",
      " 3   price         11704 non-null  int64  \n",
      " 4   rooms         11704 non-null  float64\n",
      " 5   square_price  11704 non-null  int64  \n",
      " 6   municipality  11704 non-null  object \n",
      " 7   neighborhood  11704 non-null  object \n",
      " 8   street        8967 non-null   object \n",
      "dtypes: float64(2), int64(3), object(4)\n",
      "memory usage: 823.1+ KB\n"
     ]
    }
   ],
   "source": [
    "dataset.info()"
   ]
  },
  {
   "cell_type": "code",
   "execution_count": 86,
   "id": "fde6f665-3b3d-4d31-87a5-751d330562f3",
   "metadata": {},
   "outputs": [],
   "source": [
    "dataset.drop('street', axis=1, inplace=True)"
   ]
  },
  {
   "cell_type": "code",
   "execution_count": 87,
   "id": "c65f1b7d-7d22-4e8a-a503-99489367a4c3",
   "metadata": {},
   "outputs": [
    {
     "data": {
      "text/html": [
       "<div>\n",
       "<style scoped>\n",
       "    .dataframe tbody tr th:only-of-type {\n",
       "        vertical-align: middle;\n",
       "    }\n",
       "\n",
       "    .dataframe tbody tr th {\n",
       "        vertical-align: top;\n",
       "    }\n",
       "\n",
       "    .dataframe thead th {\n",
       "        text-align: right;\n",
       "    }\n",
       "</style>\n",
       "<table border=\"1\" class=\"dataframe\">\n",
       "  <thead>\n",
       "    <tr style=\"text-align: right;\">\n",
       "      <th></th>\n",
       "      <th>area</th>\n",
       "      <th>city</th>\n",
       "      <th>floor</th>\n",
       "      <th>price</th>\n",
       "      <th>rooms</th>\n",
       "      <th>square_price</th>\n",
       "      <th>municipality</th>\n",
       "      <th>neighborhood</th>\n",
       "    </tr>\n",
       "  </thead>\n",
       "  <tbody>\n",
       "    <tr>\n",
       "      <th>0</th>\n",
       "      <td>76</td>\n",
       "      <td>Beograd</td>\n",
       "      <td>3.0</td>\n",
       "      <td>290000</td>\n",
       "      <td>2.0</td>\n",
       "      <td>3816</td>\n",
       "      <td>Opština Vračar</td>\n",
       "      <td>Opština Vračar</td>\n",
       "    </tr>\n",
       "    <tr>\n",
       "      <th>1</th>\n",
       "      <td>41</td>\n",
       "      <td>Vrnjačka Banja</td>\n",
       "      <td>2.0</td>\n",
       "      <td>82000</td>\n",
       "      <td>2.0</td>\n",
       "      <td>2000</td>\n",
       "      <td>Gradska lokacija</td>\n",
       "      <td>Gradska lokacija</td>\n",
       "    </tr>\n",
       "    <tr>\n",
       "      <th>2</th>\n",
       "      <td>37</td>\n",
       "      <td>Sokobanja</td>\n",
       "      <td>1.0</td>\n",
       "      <td>60605</td>\n",
       "      <td>2.0</td>\n",
       "      <td>1650</td>\n",
       "      <td>Gradska lokacija</td>\n",
       "      <td>Gradska lokacija</td>\n",
       "    </tr>\n",
       "    <tr>\n",
       "      <th>3</th>\n",
       "      <td>34</td>\n",
       "      <td>Sokobanja</td>\n",
       "      <td>3.0</td>\n",
       "      <td>59488</td>\n",
       "      <td>1.5</td>\n",
       "      <td>1760</td>\n",
       "      <td>Gradska lokacija</td>\n",
       "      <td>Gradska lokacija</td>\n",
       "    </tr>\n",
       "    <tr>\n",
       "      <th>4</th>\n",
       "      <td>55</td>\n",
       "      <td>Beograd</td>\n",
       "      <td>2.0</td>\n",
       "      <td>104500</td>\n",
       "      <td>2.0</td>\n",
       "      <td>1900</td>\n",
       "      <td>Opština Zemun</td>\n",
       "      <td>Opština Zemun</td>\n",
       "    </tr>\n",
       "  </tbody>\n",
       "</table>\n",
       "</div>"
      ],
      "text/plain": [
       "   area            city  floor   price  rooms  square_price      municipality  \\\n",
       "0    76         Beograd    3.0  290000    2.0          3816    Opština Vračar   \n",
       "1    41  Vrnjačka Banja    2.0   82000    2.0          2000  Gradska lokacija   \n",
       "2    37       Sokobanja    1.0   60605    2.0          1650  Gradska lokacija   \n",
       "3    34       Sokobanja    3.0   59488    1.5          1760  Gradska lokacija   \n",
       "4    55         Beograd    2.0  104500    2.0          1900     Opština Zemun   \n",
       "\n",
       "       neighborhood  \n",
       "0    Opština Vračar  \n",
       "1  Gradska lokacija  \n",
       "2  Gradska lokacija  \n",
       "3  Gradska lokacija  \n",
       "4     Opština Zemun  "
      ]
     },
     "execution_count": 87,
     "metadata": {},
     "output_type": "execute_result"
    }
   ],
   "source": [
    "dataset.head()"
   ]
  },
  {
   "cell_type": "code",
   "execution_count": 88,
   "id": "5aad7c27-dc60-4dc1-8711-aed8d3583715",
   "metadata": {},
   "outputs": [],
   "source": [
    "# OUTLIERS"
   ]
  },
  {
   "cell_type": "code",
   "execution_count": 90,
   "id": "6c2be4de-38b8-4504-af40-a7d800405faf",
   "metadata": {},
   "outputs": [],
   "source": [
    "numeric_cols = ['area', 'floor', 'price', 'rooms', 'square_price']"
   ]
  },
  {
   "cell_type": "code",
   "execution_count": 91,
   "id": "fd9ce3cb-b4f2-4a10-9aef-8941c836e4e2",
   "metadata": {},
   "outputs": [
    {
     "data": {
      "image/png": "[encoded data removed]",
      "text/plain": [
       "<Figure size 1200x600 with 5 Axes>"
      ]
     },
     "metadata": {},
     "output_type": "display_data"
    }
   ],
   "source": [
    "import matplotlib.pyplot as plt\n",
    "import seaborn as sns\n",
    "\n",
    "df = dataset\n",
    "plt.figure(figsize=(12, 6))\n",
    "for i, col in enumerate(numeric_cols, 1):\n",
    "    plt.subplot(2, 3, i)\n",
    "    sns.boxplot(x=df[col], color='skyblue')\n",
    "    plt.title(col)\n",
    "plt.tight_layout()\n",
    "plt.show()"
   ]
  },
  {
   "cell_type": "code",
   "execution_count": 94,
   "id": "83a22e7b-7870-4240-a3e4-e47dc43957b9",
   "metadata": {},
   "outputs": [
    {
     "name": "stdout",
     "output_type": "stream",
     "text": [
      "Column: area\n",
      "  Q1 = 45.00\n",
      "  Q3 = 81.00\n",
      "  IQR = 36.00\n",
      "  Lower bound (outlier <) = -9.00\n",
      "  Upper bound (outlier >) = 135.00\n",
      "  Outliers number: 446\n",
      "Column: floor\n",
      "  Q1 = 0.00\n",
      "  Q3 = 3.00\n",
      "  IQR = 3.00\n",
      "  Lower bound (outlier <) = -4.50\n",
      "  Upper bound (outlier >) = 7.50\n",
      "  Outliers number: 418\n",
      "Column: price\n",
      "  Q1 = 88320.00\n",
      "  Q3 = 197000.00\n",
      "  IQR = 108680.00\n",
      "  Lower bound (outlier <) = -74700.00\n",
      "  Upper bound (outlier >) = 360020.00\n",
      "  Outliers number: 694\n",
      "Column: rooms\n",
      "  Q1 = 2.00\n",
      "  Q3 = 3.00\n",
      "  IQR = 1.00\n",
      "  Lower bound (outlier <) = 0.50\n",
      "  Upper bound (outlier >) = 4.50\n",
      "  Outliers number: 342\n",
      "Column: square_price\n",
      "  Q1 = 1702.75\n",
      "  Q3 = 2805.25\n",
      "  IQR = 1102.50\n",
      "  Lower bound (outlier <) = 49.00\n",
      "  Upper bound (outlier >) = 4459.00\n",
      "  Outliers number: 407\n"
     ]
    }
   ],
   "source": [
    "import pandas as pd\n",
    "\n",
    "df = dataset\n",
    "for col in numeric_cols:\n",
    "    Q1 = df[col].quantile(0.25)\n",
    "    Q3 = df[col].quantile(0.75)\n",
    "    IQR = Q3 - Q1\n",
    "    lower_bound = Q1 - 1.5 * IQR\n",
    "    upper_bound = Q3 + 1.5 * IQR\n",
    "    \n",
    "    print(f\"Column: {col}\")\n",
    "    print(f\"  Q1 = {Q1:.2f}\")\n",
    "    print(f\"  Q3 = {Q3:.2f}\")\n",
    "    print(f\"  IQR = {IQR:.2f}\")\n",
    "    print(f\"  Lower bound (outlier <) = {lower_bound:.2f}\")\n",
    "    print(f\"  Upper bound (outlier >) = {upper_bound:.2f}\")\n",
    "    print(f\"  Outliers number: {(df[col] < lower_bound).sum() + (df[col] > upper_bound).sum()}\")"
   ]
  },
  {
   "cell_type": "code",
   "execution_count": 95,
   "id": "8b74cb16-b8c1-4ca2-be2a-870fff4e6886",
   "metadata": {},
   "outputs": [],
   "source": [
    "# There is a lot of outliers, so lets check if its normal for their neighborhood"
   ]
  },
  {
   "cell_type": "code",
   "execution_count": 101,
   "id": "81c2cf3b-0823-4912-9a76-db355ed3ecab",
   "metadata": {},
   "outputs": [
    {
     "data": {
      "image/png": "[encoded data removed]",
      "text/plain": [
       "<Figure size 1000x800 with 1 Axes>"
      ]
     },
     "metadata": {},
     "output_type": "display_data"
    }
   ],
   "source": [
    "import matplotlib.pyplot as plt\n",
    "\n",
    "dataset_filtered = dataset[dataset['area'] > 350]\n",
    "counts = dataset_filtered['neighborhood'].value_counts()\n",
    "\n",
    "plt.figure(figsize=(10, 8))\n",
    "plt.bar(counts.index, counts.values)\n",
    "\n",
    "plt.xticks(rotation=90)\n",
    "plt.xlabel(\"Neighborhood\")\n",
    "plt.ylabel(\"Frequency\")\n",
    "plt.title(\"Area > 350\")\n",
    "\n",
    "plt.figtext(0.5, -0.05, \"Because these are large neighborhoods, it's normal to have big areas\",\n",
    "            wrap=True, horizontalalignment='right', fontsize=10)\n",
    "\n",
    "plt.tight_layout()\n",
    "plt.show()"
   ]
  },
  {
   "cell_type": "code",
   "execution_count": null,
   "id": "9e5387f3-a8a7-436b-b67b-db8973ef557c",
   "metadata": {},
   "outputs": [],
   "source": []
  }
 ],
 "metadata": {
  "kernelspec": {
   "display_name": "Python 3 (ipykernel)",
   "language": "python",
   "name": "python3"
  },
  "language_info": {
   "codemirror_mode": {
    "name": "ipython",
    "version": 3
   },
   "file_extension": ".py",
   "mimetype": "text/x-python",
   "name": "python",
   "nbconvert_exporter": "python",
   "pygments_lexer": "ipython3",
   "version": "3.11.0"
  }
 },
 "nbformat": 4,
 "nbformat_minor": 5
}
